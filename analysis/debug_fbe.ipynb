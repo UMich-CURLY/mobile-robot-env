{
 "cells": [
  {
   "cell_type": "code",
   "execution_count": 1,
   "metadata": {},
   "outputs": [
    {
     "name": "stdout",
     "output_type": "stream",
     "text": [
      "Jupyter environment detected. Enabling Open3D WebVisualizer.\n",
      "[Open3D INFO] WebRTC GUI backend enabled.\n",
      "[Open3D INFO] WebRTCWindowSystem: HTTP handshake server disabled.\n"
     ]
    },
    {
     "name": "stderr",
     "output_type": "stream",
     "text": [
      "PluginManager::Manager: duplicate static plugin StbImageImporter, ignoring\n",
      "PluginManager::Manager: duplicate static plugin GltfImporter, ignoring\n",
      "PluginManager::Manager: duplicate static plugin BasisImporter, ignoring\n",
      "PluginManager::Manager: duplicate static plugin AssimpImporter, ignoring\n",
      "PluginManager::Manager: duplicate static plugin AnySceneImporter, ignoring\n",
      "PluginManager::Manager: duplicate static plugin AnyImageImporter, ignoring\n"
     ]
    },
    {
     "name": "stdout",
     "output_type": "stream",
     "text": [
      "/workspace/Projects/SG-VLN-axi/analysis\n"
     ]
    },
    {
     "name": "stderr",
     "output_type": "stream",
     "text": [
      "UserWarning: This is now an optional IPython functionality, setting dhist requires you to install the `pickleshare` library.\n"
     ]
    }
   ],
   "source": [
    "from utils import imagine_nav_planner\n",
    "import numpy as np\n",
    "import matplotlib.pyplot as plt\n",
    "from utils import fmm_planner\n",
    "from utils import raycast\n",
    "%cd analysis\n",
    "agent_position = [280,275]\n",
    "occupancy = np.load(\"occupancy_sample.npy\")\n",
    "traversible = np.load(\"traversible_sample.npy\")\n",
    "frontiers = np.load(\"frontiers_sample.npy\")\n",
    "%load_ext autoreload\n",
    "%autoreload 2"
   ]
  },
  {
   "cell_type": "code",
   "execution_count": 4,
   "metadata": {},
   "outputs": [],
   "source": [
    "def approximate_tangents(path: np.ndarray, normalize: bool = True) -> np.ndarray:\n",
    "    \"\"\"\n",
    "    Approximates the tangent vector at each coordinate of a path.\n",
    "\n",
    "    The tangent at point P_i is approximated as:\n",
    "    - P_1 - P_0 for the first point (forward difference)\n",
    "    - P_N-1 - P_N-2 for the last point (N-1) (backward difference)\n",
    "    - P_i+1 - P_i-1 for interior points P_i (central difference)\n",
    "\n",
    "    Args:\n",
    "        path (np.ndarray): An Nx2 NumPy array of (x, y) coordinates.\n",
    "        normalize (bool): If True, normalize the tangent vectors to unit length.\n",
    "                          Defaults to True.\n",
    "\n",
    "    Returns:\n",
    "        np.ndarray: An Nx2 NumPy array of tangent vectors (dx, dy).\n",
    "                    If a tangent vector's magnitude is close to zero (e.g., duplicate points),\n",
    "                    and normalize is True, it will be returned as [0, 0].\n",
    "                    Returns an empty array of shape (0,2) if input path has < 1 point.\n",
    "                    Returns [[0,0]] if input path has exactly 1 point.\n",
    "    \"\"\"\n",
    "    N = path.shape[0]\n",
    "\n",
    "    if N == 0:\n",
    "        return np.empty((0, 2), dtype=path.dtype)\n",
    "    if N == 1:\n",
    "        # Tangent is undefined for a single point, return [0,0] as a convention\n",
    "        return np.array([[0.0, 0.0]], dtype=path.dtype)\n",
    "\n",
    "    tangents = np.zeros_like(path, dtype=float) # Use float for potential normalization\n",
    "\n",
    "    # First point: forward difference\n",
    "    tangents[0] = path[1] - path[0]\n",
    "\n",
    "    # Last point: backward difference\n",
    "    if N > 1: # This check is technically redundant due to N==1 case above, but good for clarity\n",
    "        tangents[N - 1] = path[N - 1] - path[N - 2]\n",
    "\n",
    "    # Interior points: central difference\n",
    "    # path[2:] gives elements from index 2 to end\n",
    "    # path[:-2] gives elements from index 0 up to (but not including) N-2\n",
    "    # So, path[2:] - path[:-2] effectively computes P[i+1] - P[i-1] for i in [1, ..., N-2]\n",
    "    if N > 2:\n",
    "        tangents[1:-1] = path[2:] - path[:-2]\n",
    "        \n",
    "    # Handle N=2 case explicitly if central diff wasn't run,\n",
    "    # though the initial forward/backward handles it.\n",
    "    # For N=2, tangents[0] = path[1]-path[0], tangents[1] = path[1]-path[0]\n",
    "    # This is consistent with the above logic.\n",
    "    return tangents\n",
    "def get_headings(path):\n",
    "    tangents = approximate_tangents(path)\n",
    "    return np.arctan2(tangents[:,1],tangents[:,0])\n"
   ]
  },
  {
   "cell_type": "code",
   "execution_count": null,
   "metadata": {},
   "outputs": [
    {
     "name": "stdout",
     "output_type": "stream",
     "text": [
      "stopping\n",
      "[[280. 275.]\n",
      " [283. 278.]\n",
      " [286. 281.]\n",
      " [290. 282.]\n",
      " [293. 285.]\n",
      " [296. 288.]\n",
      " [299. 290.]\n",
      " [303. 291.]\n",
      " [306. 294.]\n",
      " [309. 297.]\n",
      " [310. 301.]\n",
      " [313. 304.]\n",
      " [314. 308.]\n",
      " [317. 311.]\n",
      " [318. 315.]\n",
      " [319. 319.]\n",
      " [320. 323.]]\n",
      "probability: 0.15506553917538934\n",
      "0.04654049873352051\n"
     ]
    }
   ],
   "source": [
    "planner = fmm_planner.FMMPlanner(traversible)\n",
    "\n",
    "import skimage\n",
    "n=5\n",
    "selem = skimage.morphology.disk(5)\n",
    "goal_map = np.zeros_like(traversible)\n",
    "\n",
    "goal_map[frontiers[n][0],frontiers[n][1]]=1\n",
    "goal = skimage.morphology.binary_dilation(goal_map, selem)\n",
    "planner.set_multi_goal(goal)\n",
    "\n",
    "path = [agent_position]\n",
    "state = agent_position\n",
    "\n",
    "for i in range(20):\n",
    "    stg_x, stg_y, replan, stop = planner.get_short_term_goal(state)\n",
    "    state = [stg_x , stg_y]\n",
    "    path.append(state)\n",
    "    if stop:\n",
    "        print(\"stopping\")\n",
    "        break\n",
    "path = np.array(path)\n",
    "print(path)\n",
    "\n",
    "\n",
    "from time import time\n",
    "\n",
    "\n",
    "planner.set_goal(agent_position)\n",
    "fmm_dist = planner.fmm_dist\n",
    "\n",
    "t0 = time()\n",
    "step_cost = fmm_dist[path[:,0].astype(int),path[:,1].astype(int)]\n",
    "gamma = np.power(0.99,step_cost)\n",
    "\n",
    "mask,prob = raycast.get_path_exploration(path,(occupancy==1),(occupancy==0),theta=3.1,n_rays=20,gamma=gamma,p=1/100000)\n",
    "\n",
    "distance_weight = np.exp(-(fmm_dist*0.01))  #divide by 100-200 seems reasonable\n",
    "mask*=distance_weight\n",
    "total_probability = 1-np.prod(1-mask)\n",
    "\n",
    "print(\"probability: \"+str(total_probability))\n",
    "print(time()-t0)\n",
    "\n",
    "\n",
    "plt.clf()\n",
    "plt.plot(path[:,1],path[:,0],lw=0.1,c='w',marker='.')\n",
    "#plt.imshow(distance_weight)\n",
    "plt.imshow(traversible+goal_map+mask*300000)\n",
    "plt.scatter(agent_position[1],agent_position[0],s=2,c='g')\n",
    "plt.scatter(frontiers[n][1],frontiers[n][0],s=2,c='r')\n",
    "plt.savefig(\"myfig\")\n"
   ]
  },
  {
   "cell_type": "code",
   "execution_count": 7,
   "metadata": {},
   "outputs": [
    {
     "data": {
      "text/plain": [
       "array([ 0.        ,  4.55895359,  8.7601914 , 12.4618982 , 16.64756159,\n",
       "       20.85508274, 24.44323375, 28.25293804, 32.4333596 , 36.61775275,\n",
       "       39.92183384, 44.15472509, 47.76511209, 51.98621654, 55.74054317,\n",
       "       59.59710517, 63.51990387])"
      ]
     },
     "execution_count": 7,
     "metadata": {},
     "output_type": "execute_result"
    }
   ],
   "source": [
    "fmm_dist[path[:,0].astype(int),path[:,1].astype(int)]"
   ]
  },
  {
   "cell_type": "code",
   "execution_count": 8,
   "metadata": {},
   "outputs": [],
   "source": [
    "x,y = 150,200\n",
    "w,h = 300,300\n",
    "phi = np.ones((w,h))\n",
    "phi[x,y]=0\n",
    "import skfmm\n",
    "distance = skfmm.distance(phi,dx=1)\n",
    "plt.imshow(np.exp(-distance/30.))\n",
    "plt.savefig(\"myfig\")"
   ]
  }
 ],
 "metadata": {
  "kernelspec": {
   "display_name": "vln",
   "language": "python",
   "name": "python3"
  },
  "language_info": {
   "codemirror_mode": {
    "name": "ipython",
    "version": 3
   },
   "file_extension": ".py",
   "mimetype": "text/x-python",
   "name": "python",
   "nbconvert_exporter": "python",
   "pygments_lexer": "ipython3",
   "version": "3.10.16"
  }
 },
 "nbformat": 4,
 "nbformat_minor": 2
}
